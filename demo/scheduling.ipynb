{
 "cells": [
  {
   "cell_type": "code",
   "execution_count": 1,
   "id": "initial_id",
   "metadata": {
    "ExecuteTime": {
     "end_time": "2024-12-10T00:54:59.116253053Z",
     "start_time": "2024-12-10T00:54:59.115102933Z"
    }
   },
   "outputs": [],
   "source": [
    "import sys\n",
    "import os\n",
    "\n",
    "sys.path.append(os.path.abspath(\"../\"))"
   ]
  },
  {
   "cell_type": "code",
   "execution_count": 2,
   "id": "670b1542f7d44280",
   "metadata": {
    "ExecuteTime": {
     "end_time": "2024-12-10T00:55:00.403387485Z",
     "start_time": "2024-12-10T00:55:00.300504603Z"
    },
    "collapsed": false,
    "jupyter": {
     "outputs_hidden": false
    }
   },
   "outputs": [],
   "source": [
    "from QHyper.problems.workflow_scheduling import Workflow, WorkflowSchedulingOneHot\n",
    "from decomposition.qhyper.algorithm import WorkflowDecompositionQHyperAdapter\n",
    "from decomposition.qhyper.solver import DecomposedWorkflowSchedulingSolver, WorkflowSchedulingSolverDecorator\n",
    "from QHyper.solvers.classical.gurobi import Gurobi"
   ]
  },
  {
   "cell_type": "code",
   "execution_count": 3,
   "id": "830c8186-1556-4c10-aef9-2955a7d34246",
   "metadata": {},
   "outputs": [],
   "source": [
    "def deadline_as_cpv(tasks_file, machines_file):\n",
    "    workflow = Workflow(tasks_file, machines_file, 100000)\n",
    "    mean_times = workflow.time_matrix.mean(axis=1).to_dict()\n",
    "\n",
    "    def path_load(p):\n",
    "        return sum([mean_times[t] for t in p])\n",
    "\n",
    "    return int(max(path_load(p) for p in workflow.paths))"
   ]
  },
  {
   "cell_type": "markdown",
   "id": "641a3d59-f665-4881-be4b-b884df4ba794",
   "metadata": {},
   "source": [
    "### Load workflow"
   ]
  },
  {
   "cell_type": "code",
   "execution_count": 4,
   "id": "ae031aa25aa1c672",
   "metadata": {
    "collapsed": false,
    "jupyter": {
     "outputs_hidden": false
    }
   },
   "outputs": [],
   "source": [
    "tasks_file = \"resources/workflows/1000genome-chameleon-2ch-250k-001.json\"\n",
    "machines_file = \"resources/machines/linear_smaller_diff.json\"\n",
    "deadline = deadline_as_cpv(tasks_file, machines_file)\n",
    "\n",
    "workflow = Workflow(tasks_file, machines_file, deadline)"
   ]
  },
  {
   "cell_type": "code",
   "execution_count": 5,
   "id": "dd2beaa9-83f6-49e4-996d-95038a918911",
   "metadata": {},
   "outputs": [
    {
     "name": "stdout",
     "output_type": "stream",
     "text": [
      "82\n"
     ]
    }
   ],
   "source": [
    "print(len(workflow.wf_instance.workflow.tasks))"
   ]
  },
  {
   "cell_type": "markdown",
   "id": "1cf07fe8-40b4-44f5-a98c-acac61ac1131",
   "metadata": {},
   "source": [
    "### Prepare solver with SPWD"
   ]
  },
  {
   "cell_type": "code",
   "execution_count": 6,
   "id": "167ed499-4a78-47fc-9226-0edeadda5470",
   "metadata": {},
   "outputs": [],
   "source": [
    "division = WorkflowDecompositionQHyperAdapter(workflow).decompose(max_subgraph_size=20)\n",
    "problems = map(lambda w: WorkflowSchedulingOneHot(w), division.workflows)\n",
    "solvers = map(lambda p: WorkflowSchedulingSolverDecorator(Gurobi(p)), problems)\n",
    "solver = DecomposedWorkflowSchedulingSolver(list(solvers), division)"
   ]
  },
  {
   "cell_type": "markdown",
   "id": "7ee42e4d-51a6-461b-8e3e-0afe1190fc36",
   "metadata": {},
   "source": [
    "### Solve with decomposition"
   ]
  },
  {
   "cell_type": "code",
   "execution_count": 7,
   "id": "2cd1f2b9-84b3-4fdc-895b-2c2889570f9e",
   "metadata": {},
   "outputs": [],
   "source": [
    "solution = solver.solve()"
   ]
  },
  {
   "cell_type": "code",
   "execution_count": 8,
   "id": "702fa643-46df-4e56-b7bc-955398bb75aa",
   "metadata": {},
   "outputs": [
    {
     "name": "stdout",
     "output_type": "stream",
     "text": [
      "Decomposed solution cost=86995.05678959998, time=3780.8972262400002\n"
     ]
    }
   ],
   "source": [
    "print(f\"Decomposed solution cost={solution.cost}, time={solution.time}\")"
   ]
  },
  {
   "cell_type": "markdown",
   "id": "bd2ec54f-2cc3-414a-b1c0-1833268debcd",
   "metadata": {},
   "source": [
    "### Compare without decompistion"
   ]
  },
  {
   "cell_type": "code",
   "execution_count": 9,
   "id": "cf5676ad-a68d-4c33-a11f-f3cd1580ffc0",
   "metadata": {},
   "outputs": [],
   "source": [
    "full_solution = WorkflowSchedulingSolverDecorator(Gurobi(WorkflowSchedulingOneHot(workflow))).solve()"
   ]
  },
  {
   "cell_type": "code",
   "execution_count": 10,
   "id": "e6392360-d550-4848-9041-db21e4cafe4c",
   "metadata": {},
   "outputs": [
    {
     "name": "stdout",
     "output_type": "stream",
     "text": [
      "Full solution cost=81123.84144480001, time=3905.40979392\n"
     ]
    }
   ],
   "source": [
    "print(f\"Full solution cost={full_solution.cost}, time={full_solution.time}\")"
   ]
  }
 ],
 "metadata": {
  "kernelspec": {
   "display_name": "Python 3 (ipykernel)",
   "language": "python",
   "name": "python3"
  },
  "language_info": {
   "codemirror_mode": {
    "name": "ipython",
    "version": 3
   },
   "file_extension": ".py",
   "mimetype": "text/x-python",
   "name": "python",
   "nbconvert_exporter": "python",
   "pygments_lexer": "ipython3",
   "version": "3.12.8"
  }
 },
 "nbformat": 4,
 "nbformat_minor": 5
}
