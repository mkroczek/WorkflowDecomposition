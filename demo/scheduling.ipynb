{
 "cells": [
  {
   "cell_type": "code",
   "execution_count": 1,
   "id": "initial_id",
   "metadata": {
    "ExecuteTime": {
     "end_time": "2024-12-10T00:54:59.116253053Z",
     "start_time": "2024-12-10T00:54:59.115102933Z"
    }
   },
   "outputs": [],
   "source": [
    "import sys\n",
    "import os\n",
    "\n",
    "sys.path.append(os.path.abspath(\"../\"))"
   ]
  },
  {
   "cell_type": "code",
   "execution_count": 25,
   "id": "670b1542f7d44280",
   "metadata": {
    "ExecuteTime": {
     "end_time": "2024-12-10T00:55:00.403387485Z",
     "start_time": "2024-12-10T00:55:00.300504603Z"
    },
    "collapsed": false,
    "jupyter": {
     "outputs_hidden": false
    }
   },
   "outputs": [],
   "source": [
    "from QHyper.problems.workflow_scheduling import Workflow, WorkflowSchedulingOneHot\n",
    "from decomposition.qhyper.algorithm import WorkflowDecompositionQHyperAdapter\n",
    "from decomposition.qhyper.solver import DecomposedWorkflowSchedulingSolver, WorkflowSchedulingSolverDecorator\n",
    "from QHyper.solvers import Gurobi"
   ]
  },
  {
   "cell_type": "code",
   "execution_count": 11,
   "id": "830c8186-1556-4c10-aef9-2955a7d34246",
   "metadata": {},
   "outputs": [],
   "source": [
    "def deadline_as_cpv(tasks_file, machines_file):\n",
    "    workflow = Workflow(tasks_file, machines_file, 100000)\n",
    "    mean_times = workflow.time_matrix.mean(axis=1).to_dict()\n",
    "\n",
    "    def path_load(p):\n",
    "        return sum([mean_times[t] for t in p])\n",
    "\n",
    "    return int(max(path_load(p) for p in workflow.paths))"
   ]
  },
  {
   "cell_type": "code",
   "execution_count": 12,
   "id": "ae031aa25aa1c672",
   "metadata": {
    "collapsed": false,
    "jupyter": {
     "outputs_hidden": false
    }
   },
   "outputs": [],
   "source": [
    "tasks_file = \"resources/workflows/1000genome-chameleon-6ch-250k-001.json\"\n",
    "machines_file = \"resources/machines/linear_smaller_diff.json\"\n",
    "deadline = deadline_as_cpv(tasks_file, machines_file)\n",
    "\n",
    "workflow = Workflow(tasks_file, machines_file, deadline)"
   ]
  },
  {
   "cell_type": "code",
   "execution_count": 13,
   "id": "dd2beaa9-83f6-49e4-996d-95038a918911",
   "metadata": {},
   "outputs": [
    {
     "name": "stdout",
     "output_type": "stream",
     "text": [
      "246\n"
     ]
    }
   ],
   "source": [
    "print(len(workflow.wf_instance.workflow.tasks))"
   ]
  },
  {
   "cell_type": "code",
   "execution_count": 26,
   "id": "167ed499-4a78-47fc-9226-0edeadda5470",
   "metadata": {},
   "outputs": [],
   "source": [
    "division = WorkflowDecompositionQHyperAdapter(workflow).decompose(max_subgraph_size=4)\n",
    "problems = map(lambda w: WorkflowSchedulingOneHot(w), division.workflows)\n",
    "solvers = map(lambda p: WorkflowSchedulingSolverDecorator(Gurobi(p)), problems)\n",
    "solver = DecomposedWorkflowSchedulingSolver(list(solvers), division)"
   ]
  },
  {
   "cell_type": "code",
   "execution_count": 27,
   "id": "2cd1f2b9-84b3-4fdc-895b-2c2889570f9e",
   "metadata": {},
   "outputs": [
    {
     "name": "stdout",
     "output_type": "stream",
     "text": [
      "Set parameter Username\n"
     ]
    },
    {
     "ename": "GurobiError",
     "evalue": "License expired 2024-11-12",
     "output_type": "error",
     "traceback": [
      "\u001b[0;31m---------------------------------------------------------------------------\u001b[0m",
      "\u001b[0;31mGurobiError\u001b[0m                               Traceback (most recent call last)",
      "Cell \u001b[0;32mIn[27], line 1\u001b[0m\n\u001b[0;32m----> 1\u001b[0m solution \u001b[38;5;241m=\u001b[39m \u001b[43msolver\u001b[49m\u001b[38;5;241;43m.\u001b[39;49m\u001b[43msolve\u001b[49m\u001b[43m(\u001b[49m\u001b[43m)\u001b[49m\n",
      "File \u001b[0;32m~/Programming/WorkflowDecomposition/decomposition/qhyper/solver.py:77\u001b[0m, in \u001b[0;36mDecomposedWorkflowSchedulingSolver.solve\u001b[0;34m(self)\u001b[0m\n\u001b[1;32m     76\u001b[0m \u001b[38;5;28;01mdef\u001b[39;00m \u001b[38;5;21msolve\u001b[39m(\u001b[38;5;28mself\u001b[39m) \u001b[38;5;241m-\u001b[39m\u001b[38;5;241m>\u001b[39m WorkflowSchedule:\n\u001b[0;32m---> 77\u001b[0m     partial_schedules \u001b[38;5;241m=\u001b[39m [s\u001b[38;5;241m.\u001b[39msolve() \u001b[38;5;28;01mfor\u001b[39;00m s \u001b[38;5;129;01min\u001b[39;00m \u001b[38;5;28mself\u001b[39m\u001b[38;5;241m.\u001b[39msolvers]\n\u001b[1;32m     78\u001b[0m     [\u001b[38;5;28mself\u001b[39m\u001b[38;5;241m.\u001b[39mverify_deadline_is_not_exceeded(schedule\u001b[38;5;241m.\u001b[39mtime, schedule\u001b[38;5;241m.\u001b[39mdeadline) \u001b[38;5;28;01mfor\u001b[39;00m schedule \u001b[38;5;129;01min\u001b[39;00m partial_schedules]\n\u001b[1;32m     79\u001b[0m     machine_assignments \u001b[38;5;241m=\u001b[39m \u001b[38;5;28mmap\u001b[39m(\u001b[38;5;28;01mlambda\u001b[39;00m s: s\u001b[38;5;241m.\u001b[39mmachine_assignment, partial_schedules)\n",
      "File \u001b[0;32m~/Programming/WorkflowDecomposition/decomposition/qhyper/solver.py:77\u001b[0m, in \u001b[0;36m<listcomp>\u001b[0;34m(.0)\u001b[0m\n\u001b[1;32m     76\u001b[0m \u001b[38;5;28;01mdef\u001b[39;00m \u001b[38;5;21msolve\u001b[39m(\u001b[38;5;28mself\u001b[39m) \u001b[38;5;241m-\u001b[39m\u001b[38;5;241m>\u001b[39m WorkflowSchedule:\n\u001b[0;32m---> 77\u001b[0m     partial_schedules \u001b[38;5;241m=\u001b[39m [\u001b[43ms\u001b[49m\u001b[38;5;241;43m.\u001b[39;49m\u001b[43msolve\u001b[49m\u001b[43m(\u001b[49m\u001b[43m)\u001b[49m \u001b[38;5;28;01mfor\u001b[39;00m s \u001b[38;5;129;01min\u001b[39;00m \u001b[38;5;28mself\u001b[39m\u001b[38;5;241m.\u001b[39msolvers]\n\u001b[1;32m     78\u001b[0m     [\u001b[38;5;28mself\u001b[39m\u001b[38;5;241m.\u001b[39mverify_deadline_is_not_exceeded(schedule\u001b[38;5;241m.\u001b[39mtime, schedule\u001b[38;5;241m.\u001b[39mdeadline) \u001b[38;5;28;01mfor\u001b[39;00m schedule \u001b[38;5;129;01min\u001b[39;00m partial_schedules]\n\u001b[1;32m     79\u001b[0m     machine_assignments \u001b[38;5;241m=\u001b[39m \u001b[38;5;28mmap\u001b[39m(\u001b[38;5;28;01mlambda\u001b[39;00m s: s\u001b[38;5;241m.\u001b[39mmachine_assignment, partial_schedules)\n",
      "File \u001b[0;32m~/Programming/WorkflowDecomposition/decomposition/qhyper/solver.py:32\u001b[0m, in \u001b[0;36mWorkflowSchedulingSolverDecorator.solve\u001b[0;34m(self)\u001b[0m\n\u001b[1;32m     31\u001b[0m \u001b[38;5;28;01mdef\u001b[39;00m \u001b[38;5;21msolve\u001b[39m(\u001b[38;5;28mself\u001b[39m) \u001b[38;5;241m-\u001b[39m\u001b[38;5;241m>\u001b[39m WorkflowSchedule:\n\u001b[0;32m---> 32\u001b[0m     solver_result: SolverResult \u001b[38;5;241m=\u001b[39m \u001b[38;5;28;43mself\u001b[39;49m\u001b[38;5;241;43m.\u001b[39;49m\u001b[43msolver\u001b[49m\u001b[38;5;241;43m.\u001b[39;49m\u001b[43msolve\u001b[49m\u001b[43m(\u001b[49m\u001b[43mparams_inits\u001b[49m\u001b[38;5;241;43m=\u001b[39;49m\u001b[43m{\u001b[49m\u001b[38;5;124;43m\"\u001b[39;49m\u001b[38;5;124;43mname\u001b[39;49m\u001b[38;5;124;43m\"\u001b[39;49m\u001b[43m:\u001b[49m\u001b[43m \u001b[49m\u001b[38;5;124;43m\"\u001b[39;49m\u001b[38;5;124;43mwsp\u001b[39;49m\u001b[38;5;124;43m\"\u001b[39;49m\u001b[43m}\u001b[49m\u001b[43m)\u001b[49m\n\u001b[1;32m     33\u001b[0m     \u001b[38;5;66;03m# TODO Gurobi returns dict as before, but CQM returns SolverResult\u001b[39;00m\n\u001b[1;32m     34\u001b[0m     machine_assignment \u001b[38;5;241m=\u001b[39m \u001b[38;5;28mself\u001b[39m\u001b[38;5;241m.\u001b[39mproblem\u001b[38;5;241m.\u001b[39mdecode_solution(solver_result)\n",
      "File \u001b[0;32m~/Programming/WorkflowDecomposition/venv/lib/python3.10/site-packages/QHyper/solvers/classical/gurobi.py:50\u001b[0m, in \u001b[0;36mGurobi.solve\u001b[0;34m(self, params_inits)\u001b[0m\n\u001b[1;32m     49\u001b[0m \u001b[38;5;28;01mdef\u001b[39;00m \u001b[38;5;21msolve\u001b[39m(\u001b[38;5;28mself\u001b[39m, params_inits: Optional[\u001b[38;5;28mdict\u001b[39m[\u001b[38;5;28mstr\u001b[39m, Any]] \u001b[38;5;241m=\u001b[39m \u001b[38;5;28;01mNone\u001b[39;00m) \u001b[38;5;241m-\u001b[39m\u001b[38;5;241m>\u001b[39m Any:\n\u001b[0;32m---> 50\u001b[0m     gpm \u001b[38;5;241m=\u001b[39m \u001b[43mgp\u001b[49m\u001b[38;5;241;43m.\u001b[39;49m\u001b[43mModel\u001b[49m\u001b[43m(\u001b[49m\u001b[38;5;28;43mself\u001b[39;49m\u001b[38;5;241;43m.\u001b[39;49m\u001b[43mmodel_name\u001b[49m\u001b[43m)\u001b[49m\n\u001b[1;32m     51\u001b[0m     \u001b[38;5;28;01mif\u001b[39;00m \u001b[38;5;28mself\u001b[39m\u001b[38;5;241m.\u001b[39mmip_gap:\n\u001b[1;32m     52\u001b[0m         gpm\u001b[38;5;241m.\u001b[39mParams\u001b[38;5;241m.\u001b[39mMIPGap \u001b[38;5;241m=\u001b[39m \u001b[38;5;28mself\u001b[39m\u001b[38;5;241m.\u001b[39mmip_gap\n",
      "File \u001b[0;32msrc/gurobipy/_model.pyx:146\u001b[0m, in \u001b[0;36mgurobipy._model.Model.__init__\u001b[0;34m()\u001b[0m\n",
      "File \u001b[0;32msrc/gurobipy/gurobi.pxi:60\u001b[0m, in \u001b[0;36mgurobipy._core.gurobi._getdefaultenv\u001b[0;34m()\u001b[0m\n",
      "File \u001b[0;32msrc/gurobipy/env.pxi:88\u001b[0m, in \u001b[0;36mgurobipy._core.Env.__init__\u001b[0;34m()\u001b[0m\n",
      "\u001b[0;31mGurobiError\u001b[0m: License expired 2024-11-12"
     ]
    }
   ],
   "source": [
    "solution = solver.solve()"
   ]
  }
 ],
 "metadata": {
  "kernelspec": {
   "display_name": "Python 3 (ipykernel)",
   "language": "python",
   "name": "python3"
  },
  "language_info": {
   "codemirror_mode": {
    "name": "ipython",
    "version": 3
   },
   "file_extension": ".py",
   "mimetype": "text/x-python",
   "name": "python",
   "nbconvert_exporter": "python",
   "pygments_lexer": "ipython3",
   "version": "3.10.13"
  }
 },
 "nbformat": 4,
 "nbformat_minor": 5
}
